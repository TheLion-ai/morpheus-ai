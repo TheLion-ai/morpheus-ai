{
 "cells": [
  {
   "cell_type": "code",
   "execution_count": 3,
   "metadata": {
    "scrolled": true
   },
   "outputs": [
    {
     "name": "stdout",
     "output_type": "stream",
     "text": [
      "Requirement already satisfied: numpy in /usr/lib/python3/dist-packages (1.17.4)\n",
      "Collecting pandas\n",
      "  Using cached pandas-1.1.4-cp38-cp38-manylinux1_x86_64.whl (9.3 MB)\n",
      "Requirement already satisfied: pytz>=2017.2 in /usr/lib/python3/dist-packages (from pandas) (2019.3)\n",
      "Requirement already satisfied: python-dateutil>=2.7.3 in /usr/lib/python3/dist-packages (from pandas) (2.7.3)\n",
      "Installing collected packages: pandas\n",
      "Successfully installed pandas-1.1.4\n"
     ]
    }
   ],
   "source": [
    "import sys\n",
    "!{sys.executable} -m pip install numpy pandas"
   ]
  },
  {
   "cell_type": "code",
   "execution_count": 73,
   "metadata": {},
   "outputs": [],
   "source": [
    "import pandas as pd\n",
    "import numpy as np\n",
    "pd.low_memory = False"
   ]
  },
  {
   "cell_type": "code",
   "execution_count": 68,
   "metadata": {},
   "outputs": [],
   "source": [
    "def split_by_nans(df, field):\n",
    "    non_empty = df[df[field].notnull()]\n",
    "    nans = df.drop(index=non_empty.index)\n",
    "\n",
    "    non_empty.reset_index(inplace=True)\n",
    "    nans.reset_index(inplace=True)\n",
    "    return non_empty, nans"
   ]
  },
  {
   "cell_type": "code",
   "execution_count": 69,
   "metadata": {},
   "outputs": [],
   "source": [
    "def split_by_field(df, field, drop=True):\n",
    "    if drop:\n",
    "        return {value: sub_df for value, sub_df in df.groupby(field)}\n",
    "    else:\n",
    "        non_empty, nans = split_by_nans(df, field)\n",
    "        ret_val = {'nans': nans}\n",
    "        ret_val.update({\n",
    "            value: sub_df for value, sub_df in non_empty.groupby(field)\n",
    "        })\n",
    "        return ret_val"
   ]
  },
  {
   "cell_type": "code",
   "execution_count": 194,
   "metadata": {},
   "outputs": [],
   "source": [
    "def print_counter(data_dict, func=len):\n",
    "    for k, v in data_dict.items():\n",
    "        print(f'{k}|{func(v)}')"
   ]
  },
  {
   "cell_type": "code",
   "execution_count": 122,
   "metadata": {},
   "outputs": [],
   "source": [
    "def year_filter(df, year=2020):\n",
    "    diagnosis = 'DIAGNOZA-DATA'\n",
    "    desc_result = 'WYNIK OPISOWY-DATA'\n",
    "    lab_result = 'WYNIK LABORATORYJNY-DATA'\n",
    "    start = f'01.01.{year}'\n",
    "    end = f'01.01.{year + 1}'\n",
    "    return (\n",
    "        (df[diagnosis] >= start) & (df[diagnosis] < end) |\n",
    "        (df[desc_result] >= start) & (df[desc_result] < end) |\n",
    "        (df[lab_result] >= start) & (df[lab_result] < end)\n",
    "    )"
   ]
  },
  {
   "cell_type": "code",
   "execution_count": 200,
   "metadata": {},
   "outputs": [],
   "source": [
    "diagnosis_attributes_map = {\n",
    "    'Osoba wykonująca badanie': 'OWY',\n",
    "    'Hemoglobina': 'HGB',\n",
    "    'Krwinki czerwone': 'RBC',\n",
    "    'Hematokryt': 'HCT',\n",
    "    'MCV': 'MCV',\n",
    "    'MCH': 'MCH',\n",
    "    'MCHC': 'MCHC',\n",
    "    'RDW': 'RDW',\n",
    "    'Płytki krwi': 'PLT',\n",
    "    'MPV': 'MPV',\n",
    "    'Wskaźnik anizocytozy płytek krwi': 'PDW',\n",
    "    'Płytkokryt': 'PLT CT',\n",
    "    'Odsetek dużych płytek krwi': 'P-LCR',\n",
    "    'Krwinki białe': 'WBC',\n",
    "    'Liczba neutrocytów': 'NEUT',\n",
    "    '% neutrocytów': '% NEUT',\n",
    "    'Liczba limfocytów': 'LYMPH',\n",
    "    '% limfocytów': '% LYMPH',\n",
    "    'Liczba monocytów': 'MONO',\n",
    "    '% monocytów': '% MONO',\n",
    "    'Liczba eozynocytów': 'EO',\n",
    "    '% eozynocytów': '% EO',\n",
    "    'Liczba bazocytów': 'BAZO',\n",
    "    '% bazocytów': '% BAZO',\n",
    "    'IG': 'IG',\n",
    "    '% niedojrzałych granulocytów': '% IG',\n",
    "    'NRBC': 'NRBC',\n",
    "    '% erytoblastów': '%NRBC',\n",
    "}"
   ]
  },
  {
   "cell_type": "code",
   "execution_count": 123,
   "metadata": {},
   "outputs": [],
   "source": [
    "data_file = 'data/morphology/morphology.csv'"
   ]
  },
  {
   "cell_type": "code",
   "execution_count": 295,
   "metadata": {},
   "outputs": [
    {
     "name": "stdout",
     "output_type": "stream",
     "text": [
      "['DIAGNOZA-DATA', 'WYNIK OPISOWY-DATA', 'WYNIK OPISOWY-DATA ZLECENIA', 'WYNIK OPISOWY-DATA OPISU', 'WYNIK OPISOWY-DATA SKIEROWANIA', 'WYNIK OPISOWY-DATA POBRANIA PRÓBKI', 'WYNIK LABORATORYJNY-DATA', 'WYNIK LABORATORYJNY-DATA ZLECENIA', 'WYNIK LABORATORYJNY-DATA OPISU', 'WYNIK LABORATORYJNY-DATA SKIEROWANIA', 'WYNIK LABORATORYJNY-DATA POBRANIA PRÓBKI']\n"
     ]
    }
   ],
   "source": [
    "df = pd.read_csv(data_file, dtype=\"object\")\n",
    "date_columns = [col for col in df.columns if '-DATA' in col]\n",
    "print(date_columns)\n",
    "for col in date_columns:\n",
    "    df[col] = pd.to_datetime(df[col])\n",
    "\n",
    "# df = df[year_filter(df, year=2020)]"
   ]
  },
  {
   "cell_type": "code",
   "execution_count": 296,
   "metadata": {},
   "outputs": [],
   "source": [
    "split_dfs = split_by_field(df, 'TYP PARAMETRU')\n",
    "df_diagnosis = split_dfs['Diagnoza'].dropna(axis=1, how='all')\n",
    "df_lab_result = split_dfs['Wynik laboratoryjny'].dropna(axis=1, how='all')\n",
    "df_desc_result = split_dfs['Wynik opisowy'].dropna(axis=1, how='all')"
   ]
  },
  {
   "cell_type": "code",
   "execution_count": 297,
   "metadata": {},
   "outputs": [],
   "source": [
    "diagnosis_columns = df_diagnosis.columns\n",
    "lab_result_columns = df_lab_result.columns\n",
    "desc_result_columns = df_desc_result.columns"
   ]
  },
  {
   "cell_type": "code",
   "execution_count": 298,
   "metadata": {},
   "outputs": [],
   "source": [
    "def count_empty(df, column):\n",
    "    counter = df[column].value_counts(dropna=False).to_dict()\n",
    "    total = len(df)\n",
    "    empty = 0\n",
    "    if np.nan in counter:\n",
    "        empty = counter.pop(np.nan)\n",
    "    return {\n",
    "        'non_empty': sum(counter.values()),\n",
    "        'empty': empty,\n",
    "        'total': total,\n",
    "    }\n"
   ]
  },
  {
   "cell_type": "code",
   "execution_count": 299,
   "metadata": {},
   "outputs": [
    {
     "name": "stdout",
     "output_type": "stream",
     "text": [
      "PACJENT-ID|968|0\n",
      "TYP PARAMETRU|968|0\n",
      "DIAGNOZA-TYP|968|0\n",
      "DIAGNOZA-RODZAJ|968|0\n",
      "DIAGNOZA-KOD ICD|968|0\n",
      "DIAGNOZA-NAZWA|968|0\n",
      "DIAGNOZA-DATA|968|0\n",
      "DIAGNOZA-SZPITAL|968|0\n",
      "DIAGNOZA-ŹRÓDŁO|968|0\n",
      "\n",
      "\n",
      "\n",
      "\n",
      "PACJENT-ID|32471|0\n",
      "TYP PARAMETRU|32471|0\n",
      "WYNIK LABORATORYJNY-NAZWA BADANIA|32471|0\n",
      "WYNIK LABORATORYJNY-NAZWA ATRYBUTU|32471|0\n",
      "WYNIK LABORATORYJNY-KOD ATRYBUTU|32471|0\n",
      "WYNIK LABORATORYJNY-DATA|32471|0\n",
      "WYNIK LABORATORYJNY-WARTOŚĆ|32471|0\n",
      "WYNIK LABORATORYJNY-JEDNOSTKA|25151|7320\n",
      "WYNIK LABORATORYJNY-NORMA|20040|12431\n",
      "WYNIK LABORATORYJNY-JEDNOSTKA ZLECAJĄCA|17669|14802\n",
      "WYNIK LABORATORYJNY-NUMER WYKONANIA|32471|0\n",
      "WYNIK LABORATORYJNY-DATA ZLECENIA|32471|0\n",
      "WYNIK LABORATORYJNY-DATA OPISU|32471|0\n",
      "WYNIK LABORATORYJNY-DATA SKIEROWANIA|32471|0\n",
      "WYNIK LABORATORYJNY-ZEWNĘTRZNY NUMER BADANIA|32471|0\n",
      "\n",
      "\n",
      "\n",
      "\n",
      "PACJENT-ID|104|0\n",
      "TYP PARAMETRU|104|0\n",
      "WYNIK OPISOWY-NAZWA PROCEDURY|104|0\n",
      "WYNIK OPISOWY-ATRYBUT FORMULARZA WYNIKOWEGO|104|0\n",
      "WYNIK OPISOWY-TREŚĆ|104|0\n",
      "WYNIK OPISOWY-DATA|104|0\n",
      "WYNIK OPISOWY-OSOBA ZAMAWIAJĄCA|104|0\n",
      "WYNIK OPISOWY-JEDNOSTKA ZLECAJĄCA|57|47\n",
      "WYNIK OPISOWY-NUMER WYKONANIA|104|0\n",
      "WYNIK OPISOWY-DATA ZLECENIA|104|0\n",
      "WYNIK OPISOWY-DATA OPISU|104|0\n",
      "WYNIK OPISOWY-DATA SKIEROWANIA|104|0\n",
      "WYNIK OPISOWY-ZEWNĘTRZNY NUMER BADANIA|104|0\n",
      "WYNIK OPISOWY-SZPITAL|104|0\n",
      "WYNIK OPISOWY-ŹRÓDŁO|104|0\n",
      "\n",
      "\n",
      "\n",
      "\n"
     ]
    }
   ],
   "source": [
    "dfs = {\n",
    "    'diagnosis': (df_diagnosis, diagnosis_columns),\n",
    "    'lab_result': (df_lab_result, lab_result_columns),\n",
    "    'desc_result': (df_desc_result, desc_result_columns)\n",
    "}\n",
    "for container in dfs.values():\n",
    "    for column in container[1]:\n",
    "        counter = count_empty(container[0], column)\n",
    "        print(f\"{column}|{counter['non_empty']}|{counter['empty']}\")\n",
    "    \n",
    "    print('\\n\\n\\n')"
   ]
  },
  {
   "cell_type": "code",
   "execution_count": 300,
   "metadata": {},
   "outputs": [],
   "source": [
    "lab_result_fields = ['WYNIK LABORATORYJNY-NAZWA BADANIA', 'WYNIK LABORATORYJNY-NAZWA ATRYBUTU', 'WYNIK LABORATORYJNY-KOD ATRYBUTU', 'WYNIK LABORATORYJNY-JEDNOSTKA']"
   ]
  },
  {
   "cell_type": "code",
   "execution_count": 301,
   "metadata": {
    "scrolled": true
   },
   "outputs": [],
   "source": [
    "lab_result_attributes = df_lab_result[lab_result_fields]\n",
    "test_name_dfs = split_by_field(lab_result_attributes, 'WYNIK LABORATORYJNY-NAZWA BADANIA')\n",
    "test_name_dfs = {k: v for k, v in sorted(test_name_dfs.items(), key=lambda item: - len(item[1]))}\n",
    "df_morphology = test_name_dfs['Morfologia']"
   ]
  },
  {
   "cell_type": "code",
   "execution_count": 302,
   "metadata": {},
   "outputs": [
    {
     "name": "stdout",
     "output_type": "stream",
     "text": [
      "% BASO|161\n",
      "% BAZO|436\n",
      "% EO|380\n",
      "% EOS|161\n",
      "% EOZ|56\n",
      "% GRAN|217\n",
      "% IG|315\n",
      "% LIMF|57\n",
      "% LYM|160\n",
      "% LYMPH|380\n",
      "% MONO|597\n",
      "% NEUT|380\n",
      "%IG|137\n",
      "%NRBC|338\n",
      "BASO|160\n",
      "BAZO|437\n",
      "EO|380\n",
      "EOS|160\n",
      "EOZ|57\n",
      "GRAN|217\n",
      "HCT|597\n",
      "HGB|597\n",
      "IG|452\n",
      "LIMF|57\n",
      "LYM|160\n",
      "LYMPH|380\n",
      "MCH|597\n",
      "MCHC|597\n",
      "MCV|597\n",
      "MONO|597\n",
      "MPV|597\n",
      "NEUT|380\n",
      "NRBC|338\n",
      "OWY|331\n",
      "P-LCR|155\n",
      "PDW|155\n",
      "PLT|597\n",
      "PLT CT|155\n",
      "RBC|597\n",
      "RDW|597\n",
      "WBC|597\n"
     ]
    }
   ],
   "source": [
    "attribute_code_column = 'WYNIK LABORATORYJNY-KOD ATRYBUTU'\n",
    "\n",
    "attribute_codes_dfs = split_by_field(df_morphology, attribute_code_column)\n",
    "attribute_codes_lengths = {k: len(v) for k, v in attribute_codes_dfs.items()}\n",
    "\n",
    "print_counter(attribute_codes_lengths, func=lambda item: item)"
   ]
  },
  {
   "cell_type": "code",
   "execution_count": 308,
   "metadata": {},
   "outputs": [
    {
     "name": "stdout",
     "output_type": "stream",
     "text": [
      "% bazocytów|597\n",
      "% eozynocytów|597\n",
      "% erytoblastów|338\n",
      "% limfocytów|597\n",
      "% monocytów|597\n",
      "% neutrocytów|597\n",
      "% niedojrzałych granulocytów|315\n",
      "%IG|137\n",
      "Hematokryt|597\n",
      "Hemoglobina|597\n",
      "IG|452\n",
      "Krwinki białe|597\n",
      "Krwinki czerwone|597\n",
      "Liczba bazocytów|597\n",
      "Liczba eozynocytów|597\n",
      "Liczba limfocytów|597\n",
      "Liczba monocytów|597\n",
      "Liczba neutrocytów|597\n",
      "MCH|597\n",
      "MCHC|597\n",
      "MCV|597\n",
      "MPV|597\n",
      "NRBC|338\n",
      "Odsetek dużych płytek krwi|155\n",
      "Osoba wykonująca badanie|331\n",
      "Płytki krwi|597\n",
      "Płytkokryt|155\n",
      "RDW|597\n",
      "Wskaźnik anizocytozy płytek krwi|155\n"
     ]
    }
   ],
   "source": [
    "attribute_name_column = 'WYNIK LABORATORYJNY-NAZWA ATRYBUTU'\n",
    "\n",
    "attribute_names_dfs = split_by_field(df_morphology, attribute_name_column)\n",
    "attribute_names_lengths = {k: len(v) for k, v in attribute_names_dfs.items()}\n",
    "\n",
    "print_counter(attribute_names_lengths, func= lambda item: item)"
   ]
  },
  {
   "cell_type": "code",
   "execution_count": 312,
   "metadata": {},
   "outputs": [
    {
     "name": "stdout",
     "output_type": "stream",
     "text": [
      "41 29\n"
     ]
    }
   ],
   "source": [
    "print(len(attribute_codes_lengths), len(attribute_names_lengths))"
   ]
  },
  {
   "cell_type": "code",
   "execution_count": 306,
   "metadata": {},
   "outputs": [
    {
     "ename": "ValueError",
     "evalue": "Amount of \"% bazocytów\" and it's code (\"% BAZO\") aren't equal.",
     "output_type": "error",
     "traceback": [
      "\u001b[0;31m---------------------------------------------------------------------------\u001b[0m",
      "\u001b[0;31mValueError\u001b[0m                                Traceback (most recent call last)",
      "\u001b[0;32m<ipython-input-306-815555882059>\u001b[0m in \u001b[0;36m<module>\u001b[0;34m\u001b[0m\n\u001b[1;32m      5\u001b[0m     \u001b[0mcode\u001b[0m \u001b[0;34m=\u001b[0m \u001b[0mdiagnosis_attributes_map\u001b[0m\u001b[0;34m[\u001b[0m\u001b[0mname\u001b[0m\u001b[0;34m]\u001b[0m\u001b[0;34m\u001b[0m\u001b[0;34m\u001b[0m\u001b[0m\n\u001b[1;32m      6\u001b[0m     \u001b[0;32mif\u001b[0m \u001b[0mlength\u001b[0m \u001b[0;34m!=\u001b[0m \u001b[0mattribute_codes_lengths\u001b[0m\u001b[0;34m[\u001b[0m\u001b[0mcode\u001b[0m\u001b[0;34m]\u001b[0m\u001b[0;34m:\u001b[0m\u001b[0;34m\u001b[0m\u001b[0;34m\u001b[0m\u001b[0m\n\u001b[0;32m----> 7\u001b[0;31m         \u001b[0;32mraise\u001b[0m \u001b[0mValueError\u001b[0m\u001b[0;34m(\u001b[0m\u001b[0;34mf\"Amount of \\\"{name}\\\" and it's code (\\\"{code}\\\") aren't equal.\"\u001b[0m\u001b[0;34m)\u001b[0m\u001b[0;34m\u001b[0m\u001b[0;34m\u001b[0m\u001b[0m\n\u001b[0m\u001b[1;32m      8\u001b[0m \u001b[0;31m#     print(name, diagnosis_attributes_map[name], length, attribute_codes_lengths[diagnosis_attributes_map[name]])\u001b[0m\u001b[0;34m\u001b[0m\u001b[0;34m\u001b[0m\u001b[0;34m\u001b[0m\u001b[0m\n",
      "\u001b[0;31mValueError\u001b[0m: Amount of \"% bazocytów\" and it's code (\"% BAZO\") aren't equal."
     ]
    }
   ],
   "source": [
    "# sanity check\n",
    "for name, length in attribute_names_lengths.items():\n",
    "    if name not in diagnosis_attributes_map:\n",
    "        raise AttributeError('Key not found, please define it in the map above')\n",
    "    code = diagnosis_attributes_map[name]\n",
    "    if length != attribute_codes_lengths[code]:\n",
    "        raise ValueError(f\"Amount of \\\"{name}\\\" and it's code (\\\"{code}\\\") aren't equal.\")    \n",
    "#     print(name, diagnosis_attributes_map[name], length, attribute_codes_lengths[diagnosis_attributes_map[name]])"
   ]
  },
  {
   "cell_type": "code",
   "execution_count": null,
   "metadata": {},
   "outputs": [],
   "source": []
  }
 ],
 "metadata": {
  "kernelspec": {
   "display_name": "Python 3",
   "language": "python",
   "name": "python3"
  },
  "language_info": {
   "codemirror_mode": {
    "name": "ipython",
    "version": 3
   },
   "file_extension": ".py",
   "mimetype": "text/x-python",
   "name": "python",
   "nbconvert_exporter": "python",
   "pygments_lexer": "ipython3",
   "version": "3.8.5"
  }
 },
 "nbformat": 4,
 "nbformat_minor": 4
}
