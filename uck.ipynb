{
 "cells": [
  {
   "cell_type": "code",
   "execution_count": 1,
   "metadata": {},
   "outputs": [],
   "source": [
    "import math\n",
    "import pandas as pd\n",
    "import numpy as np\n",
    "import matplotlib.pyplot as plt\n",
    "import statsmodels.api as sm\n",
    "import seaborn as sn"
   ]
  },
  {
   "cell_type": "code",
   "execution_count": 2,
   "metadata": {},
   "outputs": [],
   "source": [
    "time_delta = 3"
   ]
  },
  {
   "cell_type": "code",
   "execution_count": 3,
   "metadata": {},
   "outputs": [
    {
     "name": "stdout",
     "output_type": "stream",
     "text": [
      "<class 'pandas.core.frame.DataFrame'>\n",
      "Int64Index: 16515 entries, 0 to 16541\n",
      "Data columns (total 17 columns):\n",
      " #   Column           Non-Null Count  Dtype  \n",
      "---  ------           --------------  -----  \n",
      " 0   patient_id       16515 non-null  int64  \n",
      " 1   test_date        16515 non-null  object \n",
      " 2   morphology_date  16515 non-null  object \n",
      " 3   test_identifier  16515 non-null  object \n",
      " 4   distance         16515 non-null  int64  \n",
      " 5   Krwinki białe    16515 non-null  float64\n",
      " 6   Hemoglobina      16514 non-null  float64\n",
      " 7   MCV              16514 non-null  float64\n",
      " 8   MCHC             16514 non-null  float64\n",
      " 9   Płytki krwi      16515 non-null  int64  \n",
      " 10  % bazocytów      16403 non-null  float64\n",
      " 11  % limfocytów     16398 non-null  float64\n",
      " 12  % monocytów      16398 non-null  float64\n",
      " 13  % eozynocytów    16402 non-null  float64\n",
      " 14  age_at_test      16515 non-null  float64\n",
      " 15  gender           16515 non-null  object \n",
      " 16  test_result      16515 non-null  object \n",
      "dtypes: float64(9), int64(3), object(5)\n",
      "memory usage: 2.3+ MB\n",
      "None\n"
     ]
    }
   ],
   "source": [
    "df = pd.read_csv('parsed_morphology.csv')\n",
    "df = df.drop_duplicates()\n",
    "df = df.loc[~(df['test_result']=='low positive')]\n",
    "extra_cols = ['patient_id', 'test_date', 'morphology_date', 'test_identifier', 'distance', ]\n",
    "feat_cols = ['Krwinki białe', 'Hemoglobina', 'MCV', 'MCHC', 'Płytki krwi', '% bazocytów', '% limfocytów', '% monocytów', '% eozynocytów', 'age_at_test', 'gender', 'test_result']\n",
    "df = df[[*extra_cols, *feat_cols]]\n",
    "print(df.info())"
   ]
  },
  {
   "cell_type": "code",
   "execution_count": 4,
   "metadata": {},
   "outputs": [
    {
     "name": "stdout",
     "output_type": "stream",
     "text": [
      "negative        3568\n",
      "positive         176\n",
      "low-positive      20\n",
      "Name: test_result, dtype: int64\n"
     ]
    }
   ],
   "source": [
    "df['test_date'] = pd.to_datetime(df['test_date']).dt.date\n",
    "df['morphology_date'] = pd.to_datetime(df['morphology_date']).dt.date\n",
    "\n",
    "df = df.loc[(df['test_date'] - df['morphology_date'] <= f\"{time_delta} days\") & (df['test_date'] - df['morphology_date'] >= f\"- {time_delta} days\")]\n",
    "print(df['test_result'].value_counts())"
   ]
  },
  {
   "cell_type": "code",
   "execution_count": 5,
   "metadata": {},
   "outputs": [
    {
     "name": "stdout",
     "output_type": "stream",
     "text": [
      "negative        3568\n",
      "positive         176\n",
      "low-positive      20\n",
      "Name: test_result, dtype: int64\n",
      "       patient_id   test_date morphology_date test_identifier  distance  \\\n",
      "10            842  2020-11-07      2020-11-04      CN65774337         3   \n",
      "13           1035  2020-11-07      2020-11-04      CN65962312         3   \n",
      "46           7001  2020-10-13      2020-10-12      CN65371419         1   \n",
      "51           8439  2020-10-01      2020-09-30      CN64941697         1   \n",
      "189         61056  2020-10-16      2020-10-14      CN65390966         2   \n",
      "...           ...         ...             ...             ...       ...   \n",
      "16509     2154735  2020-12-04      2020-12-03      CN66728489         1   \n",
      "16514     2154853  2020-12-02      2020-11-30      CN66650129         2   \n",
      "16518     2155223  2020-11-29      2020-11-27      CN66600233         2   \n",
      "16520     2155227  2020-12-04      2020-12-01      CN66658578         3   \n",
      "16534     2155722  2020-12-07      2020-12-04      CN66758654         3   \n",
      "\n",
      "       Krwinki białe  Hemoglobina   MCV  MCHC  Płytki krwi  % bazocytów  \\\n",
      "10              5.27         10.2  90.5  32.5          158          0.6   \n",
      "13              3.90         11.3  91.6  33.6          179          0.8   \n",
      "46              8.17         13.5  84.1  32.7          113          0.4   \n",
      "51             11.65          9.6  93.1  32.3          291          0.7   \n",
      "189             8.13          9.9  85.1  33.2          263          0.1   \n",
      "...              ...          ...   ...   ...          ...          ...   \n",
      "16509           7.08         13.1  93.0  32.9          111          0.3   \n",
      "16514          23.90          7.5  93.9  32.5          542          0.4   \n",
      "16518          11.41         15.1  87.0  33.6          220          0.9   \n",
      "16520           9.18          9.8  88.5  34.4          250          0.2   \n",
      "16534          10.35         12.9  90.6  32.7          311          0.3   \n",
      "\n",
      "       % limfocytów  % monocytów  % eozynocytów  age_at_test gender  \\\n",
      "10             18.0          7.2            8.7    54.681479      M   \n",
      "13             22.3         12.6            0.3    73.822187      F   \n",
      "46             15.7          9.4            3.7    81.345955      F   \n",
      "51              9.2         12.0            2.2    65.482522      M   \n",
      "189             8.2          2.1            0.0    67.629041      M   \n",
      "...             ...          ...            ...          ...    ...   \n",
      "16509           5.9          6.1            1.0    85.222831      M   \n",
      "16514           5.3          6.4            0.8    50.221428      F   \n",
      "16518          20.3          8.5            0.9    55.393335      M   \n",
      "16520          17.9          5.4            1.3    77.110413      F   \n",
      "16534          22.5          8.6            0.0    82.747763      F   \n",
      "\n",
      "      test_result  \n",
      "10       negative  \n",
      "13       positive  \n",
      "46       negative  \n",
      "51       negative  \n",
      "189      negative  \n",
      "...           ...  \n",
      "16509    positive  \n",
      "16514    negative  \n",
      "16518    negative  \n",
      "16520    positive  \n",
      "16534    negative  \n",
      "\n",
      "[1101 rows x 17 columns]\n"
     ]
    }
   ],
   "source": [
    "# df_severity = df.loc[df['test_result']=='positive']\n",
    "print(df['test_result'].value_counts())\n",
    "print(df.loc[df['patient_id'].duplicated()])"
   ]
  },
  {
   "cell_type": "code",
   "execution_count": 6,
   "metadata": {},
   "outputs": [],
   "source": [
    "# pd.concat(g for _, g in df.groupby(\"test_identifier\") if len(g) > 1)"
   ]
  },
  {
   "cell_type": "code",
   "execution_count": 7,
   "metadata": {},
   "outputs": [],
   "source": [
    "# These 6 rows are equal in all columns but test result. Test result is either negative or low positive.\n",
    "# Due to the ambiguity it is better to drop this row.\n",
    "df = df[~(df['test_identifier'].map(df['test_identifier'].value_counts())>1)]\n"
   ]
  },
  {
   "cell_type": "code",
   "execution_count": 8,
   "metadata": {},
   "outputs": [],
   "source": [
    "# Map names to match Zenodo dataset\n",
    "unify_cols_dict = {\n",
    "    'Krwinki białe': 'WBC',\n",
    "    'Hemoglobina': 'HGB',\n",
    "    'MCV': 'MCV',\n",
    "    'MCHC': 'MCHC',\n",
    "    'Płytki krwi': 'PLT',\n",
    "    '% bazocytów': 'BAT', # dlaczego nie Bat??\n",
    "    '% limfocytów': 'LYT',\n",
    "    '% monocytów': 'MOT',\n",
    "    '% eozynocytów': 'EOT',\n",
    "    'age_at_test': 'age',\n",
    "    'gender': 'Sex',\n",
    "    'test_result': 'target'\n",
    "}\n",
    "df = df.rename(columns=unify_cols_dict)"
   ]
  },
  {
   "cell_type": "code",
   "execution_count": 9,
   "metadata": {},
   "outputs": [
    {
     "name": "stdout",
     "output_type": "stream",
     "text": [
      "Index(['WBC', 'HGB', 'MCV', 'MCHC', 'PLT', 'BAT', 'LYT', 'MOT', 'EOT', 'age',\n",
      "       'Sex', 'target'],\n",
      "      dtype='object')\n",
      "negative        3518\n",
      "positive         175\n",
      "low-positive      15\n",
      "Name: target, dtype: int64\n"
     ]
    }
   ],
   "source": [
    "df_cbc = df[unify_cols_dict.values()]\n",
    "print(df_cbc.columns)\n",
    "print(df_cbc['target'].value_counts())"
   ]
  },
  {
   "cell_type": "code",
   "execution_count": 10,
   "metadata": {},
   "outputs": [],
   "source": [
    "df_cbc.to_csv('datasets/uck_detection_3days.csv')"
   ]
  },
  {
   "cell_type": "code",
   "execution_count": 11,
   "metadata": {},
   "outputs": [],
   "source": [
    "care_cat_dict = {\n",
    "    'I': 1,\n",
    "    'II': 2,\n",
    "    'III': 3,\n",
    "    'IV': 4\n",
    "}\n",
    "df_care = pd.read_csv('uck-data/KategoriaOpieki.csv')\n",
    "df_care['KATEGORIA'] = df_care['KATEGORIA'].map(care_cat_dict)\n",
    "df_care['OBOWIAZUJE_OD'] = pd.to_datetime(df_care['OBOWIAZUJE_OD']).dt.date\n",
    "df_care['OBOWIAZUJE_DO'] = pd.to_datetime(df_care['OBOWIAZUJE_DO']).dt.date\n",
    "\n",
    "\n",
    "df_care['OBOWIAZUJE_OD'] = df_care['OBOWIAZUJE_OD'].fillna(df_care['OBOWIAZUJE_DO'])\n",
    "df_care['OBOWIAZUJE_DO'] = df_care['OBOWIAZUJE_DO'].fillna(df_care['OBOWIAZUJE_OD'])"
   ]
  },
  {
   "cell_type": "code",
   "execution_count": 12,
   "metadata": {},
   "outputs": [
    {
     "data": {
      "text/plain": [
       "PACJENT_ID\n",
       "82858                        [5279861, 5235349]\n",
       "103678                       [5262870, 5267315]\n",
       "228581              [5214060, 5294011, 5268595]\n",
       "1224090                      [5276701, 5299561]\n",
       "1454109             [5274015, 5292432, 5297532]\n",
       "1734198                      [5257084, 5286933]\n",
       "1869903                      [5266964, 5292300]\n",
       "1871291                      [5283423, 5271934]\n",
       "1907740                      [5257138, 5283466]\n",
       "2020947                      [5276655, 5302696]\n",
       "2022481                      [5244346, 5270147]\n",
       "2084693                      [5252008, 5283205]\n",
       "2085769             [5301723, 5267221, 5284465]\n",
       "2101717                      [5249334, 5261130]\n",
       "2118468             [5268522, 5276727, 5283552]\n",
       "2138830                      [5295646, 5299427]\n",
       "2140468    [5219377, 5251542, 5281123, 5286732]\n",
       "2140596                      [5266809, 5271999]\n",
       "2140598             [5300063, 5272298, 5276653]\n",
       "2141925                      [5202899, 5247848]\n",
       "2143753                      [5237385, 5292198]\n",
       "2144195                      [5283653, 5266865]\n",
       "2148591                      [5279639, 5301878]\n",
       "2151150                      [5259225, 5288320]\n",
       "2151223                      [5292123, 5300822]\n",
       "2151721                      [5279827, 5283567]\n",
       "2152967                      [5277924, 5290596]\n",
       "Name: HOSPITALIZACJA_ID, dtype: object"
      ]
     },
     "execution_count": 12,
     "metadata": {},
     "output_type": "execute_result"
    }
   ],
   "source": [
    "# Wyświetlamy pacjentów hospitalizowanych kilka razy\n",
    "group = df_care.groupby('PACJENT_ID')['HOSPITALIZACJA_ID'].unique()\n",
    "group[group.apply(lambda x: len(x)>1)]"
   ]
  },
  {
   "cell_type": "code",
   "execution_count": 13,
   "metadata": {},
   "outputs": [],
   "source": [
    "# Sprawdzamy czy kat opieki zmieniła się w trakcie hospitalizacji\n",
    "group = df_care.groupby('HOSPITALIZACJA_ID')['KATEGORIA'].unique()\n",
    "care_cat = group.apply(lambda x: max(x))\n",
    "arr = care_cat.values\n",
    "df_care_post = pd.DataFrame({'HOSPITALIZACJA_ID': care_cat.index, 'Category': care_cat.values})"
   ]
  },
  {
   "cell_type": "code",
   "execution_count": 14,
   "metadata": {},
   "outputs": [],
   "source": [
    "# sorted(df_care['OBOWIAZUJE_OD'] - df_care['OBOWIAZUJE_DO'], reverse=True)\n",
    "group = df_care.groupby('HOSPITALIZACJA_ID')['OBOWIAZUJE_OD'].unique()\n",
    "start_date = group.apply(lambda x: min(x))\n",
    "group = df_care.groupby('HOSPITALIZACJA_ID')['OBOWIAZUJE_DO'].unique()\n",
    "end_date = group.apply(lambda x: max(x))\n",
    "\n",
    "df_buffer = pd.DataFrame({'HOSPITALIZACJA_ID': group.index, 'start_date': start_date, 'end_date': end_date})\n",
    "df_care_post = df_care_post.join(df_buffer.set_index('HOSPITALIZACJA_ID'), on='HOSPITALIZACJA_ID')"
   ]
  },
  {
   "cell_type": "code",
   "execution_count": 15,
   "metadata": {},
   "outputs": [],
   "source": [
    "df_buffer = df_care[['HOSPITALIZACJA_ID', 'PACJENT_ID']]\n",
    "df_care_post = df_care_post.join(df_buffer.set_index('HOSPITALIZACJA_ID'), on='HOSPITALIZACJA_ID')\n",
    "df_care_post = df_care_post.drop_duplicates()"
   ]
  },
  {
   "cell_type": "code",
   "execution_count": 16,
   "metadata": {},
   "outputs": [
    {
     "name": "stdout",
     "output_type": "stream",
     "text": [
      "175\n"
     ]
    }
   ],
   "source": [
    "# Szykamy poprawnych pacjent id...\n",
    "df_morf = pd.read_csv('uck-data/tests/Morfologia.csv')\n",
    "df_morf = df_morf[['pacjent_id', 'numer_badania']]\n",
    "\n",
    "df_buffer = df.loc[df['target']=='positive']\n",
    "\n",
    "df_buffer = df_buffer.rename(columns = {'test_identifier': 'numer_badania'})\n",
    "df_buffer = df_buffer.join(df_morf.set_index('numer_badania'), on='numer_badania')\n",
    "df_buffer = df_buffer.drop_duplicates()\n",
    "print(len(df_buffer))"
   ]
  },
  {
   "cell_type": "code",
   "execution_count": 17,
   "metadata": {},
   "outputs": [],
   "source": [
    "from IPython.display import clear_output\n",
    "\n",
    "\n",
    "df_care_post['start_date'] = df_care_post['start_date'] - pd.Timedelta(days=time_delta)\n",
    "df_care_post['end_date'] = df_care_post['end_date'] + pd.Timedelta(days=time_delta)\n",
    "# NIE DZIAŁA\n",
    "# df_care_post['date_range'] = pd.date_range(start=df_care_post['start_date'], end=df_care_post[end_date])\n",
    "\n",
    "\n",
    "# clear_output(wait=True)\n"
   ]
  },
  {
   "cell_type": "code",
   "execution_count": 18,
   "metadata": {},
   "outputs": [
    {
     "data": {
      "text/plain": [
       "56"
      ]
     },
     "execution_count": 18,
     "metadata": {},
     "output_type": "execute_result"
    }
   ],
   "source": [
    "# df_care_post.loc[df_buffer['pacjent_id']==df_care_post['PACJENT_ID']]\n",
    "ids = list(df_buffer['pacjent_id'].unique())\n",
    "\n",
    "df_care_with_morf = df_care_post.loc[df_care_post['PACJENT_ID'].isin(ids)]\n",
    "len(df_care_with_morf) #[df_care_with_morf['PACJENT_ID']==2140659].iloc[0]['PACJENT_ID'] == 2140659\n",
    "# 2140659 in ids\n"
   ]
  },
  {
   "cell_type": "code",
   "execution_count": 19,
   "metadata": {},
   "outputs": [
    {
     "data": {
      "text/html": [
       "<div>\n",
       "<style scoped>\n",
       "    .dataframe tbody tr th:only-of-type {\n",
       "        vertical-align: middle;\n",
       "    }\n",
       "\n",
       "    .dataframe tbody tr th {\n",
       "        vertical-align: top;\n",
       "    }\n",
       "\n",
       "    .dataframe thead th {\n",
       "        text-align: right;\n",
       "    }\n",
       "</style>\n",
       "<table border=\"1\" class=\"dataframe\">\n",
       "  <thead>\n",
       "    <tr style=\"text-align: right;\">\n",
       "      <th></th>\n",
       "      <th>patient_id</th>\n",
       "      <th>test_date</th>\n",
       "      <th>morphology_date</th>\n",
       "      <th>numer_badania</th>\n",
       "      <th>distance</th>\n",
       "      <th>WBC</th>\n",
       "      <th>HGB</th>\n",
       "      <th>MCV</th>\n",
       "      <th>MCHC</th>\n",
       "      <th>PLT</th>\n",
       "      <th>BAT</th>\n",
       "      <th>LYT</th>\n",
       "      <th>MOT</th>\n",
       "      <th>EOT</th>\n",
       "      <th>age</th>\n",
       "      <th>Sex</th>\n",
       "      <th>target</th>\n",
       "      <th>pacjent_id</th>\n",
       "    </tr>\n",
       "  </thead>\n",
       "  <tbody>\n",
       "  </tbody>\n",
       "</table>\n",
       "</div>"
      ],
      "text/plain": [
       "Empty DataFrame\n",
       "Columns: [patient_id, test_date, morphology_date, numer_badania, distance, WBC, HGB, MCV, MCHC, PLT, BAT, LYT, MOT, EOT, age, Sex, target, pacjent_id]\n",
       "Index: []"
      ]
     },
     "execution_count": 19,
     "metadata": {},
     "output_type": "execute_result"
    }
   ],
   "source": [
    "df_buffer.loc[df_buffer['pacjent_id']==2140659]"
   ]
  },
  {
   "cell_type": "code",
   "execution_count": 20,
   "metadata": {},
   "outputs": [
    {
     "ename": "NameError",
     "evalue": "name 'rows' is not defined",
     "output_type": "error",
     "traceback": [
      "\u001b[0;31m---------------------------------------------------------------------------\u001b[0m",
      "\u001b[0;31mNameError\u001b[0m                                 Traceback (most recent call last)",
      "\u001b[0;32m/tmp/ipykernel_10609/109942715.py\u001b[0m in \u001b[0;36m<module>\u001b[0;34m\u001b[0m\n\u001b[1;32m      3\u001b[0m     \u001b[0;31m# rows = df_care_post.loc[df_care_post['PACJENT_ID'] == row['pacjent_id']]\u001b[0m\u001b[0;34m\u001b[0m\u001b[0;34m\u001b[0m\u001b[0;34m\u001b[0m\u001b[0m\n\u001b[1;32m      4\u001b[0m \u001b[0;34m\u001b[0m\u001b[0m\n\u001b[0;32m----> 5\u001b[0;31m     \u001b[0mrows\u001b[0m \u001b[0;34m=\u001b[0m \u001b[0mrows\u001b[0m\u001b[0;34m.\u001b[0m\u001b[0mloc\u001b[0m\u001b[0;34m[\u001b[0m\u001b[0;34m(\u001b[0m\u001b[0mrows\u001b[0m\u001b[0;34m[\u001b[0m\u001b[0;34m'morphology_date'\u001b[0m\u001b[0;34m]\u001b[0m \u001b[0;34m>=\u001b[0m \u001b[0mrow\u001b[0m\u001b[0;34m[\u001b[0m\u001b[0;34m'start_date'\u001b[0m\u001b[0;34m]\u001b[0m\u001b[0;34m)\u001b[0m \u001b[0;34m&\u001b[0m \u001b[0;34m(\u001b[0m\u001b[0mrows\u001b[0m\u001b[0;34m[\u001b[0m\u001b[0;34m'morphology_date'\u001b[0m\u001b[0;34m]\u001b[0m \u001b[0;34m<=\u001b[0m \u001b[0mrow\u001b[0m\u001b[0;34m[\u001b[0m\u001b[0;34m'end_date'\u001b[0m\u001b[0;34m]\u001b[0m\u001b[0;34m)\u001b[0m\u001b[0;34m]\u001b[0m\u001b[0;34m\u001b[0m\u001b[0;34m\u001b[0m\u001b[0m\n\u001b[0m\u001b[1;32m      6\u001b[0m     \u001b[0;32mif\u001b[0m \u001b[0;32mnot\u001b[0m \u001b[0mrows\u001b[0m\u001b[0;34m.\u001b[0m\u001b[0mempty\u001b[0m\u001b[0;34m:\u001b[0m\u001b[0;34m\u001b[0m\u001b[0;34m\u001b[0m\u001b[0m\n\u001b[1;32m      7\u001b[0m         \u001b[0mprint\u001b[0m\u001b[0;34m(\u001b[0m\u001b[0;34m'non_empty'\u001b[0m\u001b[0;34m)\u001b[0m\u001b[0;34m\u001b[0m\u001b[0;34m\u001b[0m\u001b[0m\n",
      "\u001b[0;31mNameError\u001b[0m: name 'rows' is not defined"
     ]
    }
   ],
   "source": [
    "\n",
    "df_prognosis = pd.DataFrame()\n",
    "for i, row in df_care_with_morf.iterrows():\n",
    "    # rows = df_care_post.loc[df_care_post['PACJENT_ID'] == row['pacjent_id']]\n",
    "\n",
    "    rows = rows.loc[(rows['morphology_date'] >= row['start_date']) & (rows['morphology_date'] <= row['end_date'])]\n",
    "    if not rows.empty:\n",
    "        print('non_empty')\n",
    "        #     df_prognosis = df_prognosis.append(row)\n",
    "\n",
    "\n",
    "print(df_prognosis.info())"
   ]
  },
  {
   "cell_type": "code",
   "execution_count": null,
   "metadata": {},
   "outputs": [],
   "source": []
  }
 ],
 "metadata": {
  "interpreter": {
   "hash": "3f13e946dd6b35dcd448012e66eb9fe15d33f519acd07fa927374c9e3a4596be"
  },
  "kernelspec": {
   "display_name": "Python 3.9.5 64-bit ('venv': venv)",
   "language": "python",
   "name": "python3"
  },
  "language_info": {
   "codemirror_mode": {
    "name": "ipython",
    "version": 3
   },
   "file_extension": ".py",
   "mimetype": "text/x-python",
   "name": "python",
   "nbconvert_exporter": "python",
   "pygments_lexer": "ipython3",
   "version": "3.9.5"
  },
  "orig_nbformat": 4
 },
 "nbformat": 4,
 "nbformat_minor": 2
}
